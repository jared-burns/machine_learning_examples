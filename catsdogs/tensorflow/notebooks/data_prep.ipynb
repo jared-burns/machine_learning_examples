{
 "cells": [
  {
   "cell_type": "markdown",
   "metadata": {},
   "source": [
    "### Libraries and datasets required"
   ]
  },
  {
   "cell_type": "markdown",
   "metadata": {},
   "source": [
    "original dataset from  https://storage.googleapis.com/mledu-datasets/cats_and_dogs_filtered.zip \\\n",
    "Images: 3000 (2000 Training, 1000 Validation) "
   ]
  },
  {
   "cell_type": "code",
   "execution_count": 1,
   "metadata": {},
   "outputs": [
    {
     "name": "stdout",
     "output_type": "stream",
     "text": [
      "0.10.4\n"
     ]
    }
   ],
   "source": [
    "import os\n",
    "import pandas as pd\n",
    "import tfrecorder\n",
    "import wandb \n",
    "print(wandb.__version__)\n",
    "import tensorflow as tf\n",
    "import time"
   ]
  },
  {
   "cell_type": "code",
   "execution_count": 2,
   "metadata": {},
   "outputs": [],
   "source": [
    "os.system('wandb login 57ed58d54691b4024a67bc775e075cb86868cb41')\n",
    "os.environ['WANDB_NOTEBOOK_NAME'] = 'data_prep.ipynb'"
   ]
  },
  {
   "cell_type": "markdown",
   "metadata": {},
   "source": [
    "### GCS Fuse to be able to use os utilities on GCS without copying data"
   ]
  },
  {
   "cell_type": "code",
   "execution_count": 12,
   "metadata": {},
   "outputs": [
    {
     "name": "stdout",
     "output_type": "stream",
     "text": [
      "Using mount point: /home/jupyter/gcs\n",
      "Opening GCS connection...\n",
      "Opening bucket...\n",
      "Mounting file system...\n",
      "File system has been successfully mounted.\n"
     ]
    }
   ],
   "source": [
    "!gcsfuse --implicit-dirs tfx-example-image-classification /home/jupyter/gcs/\n",
    "#!fusermount -u /home/jupyter/gcs/"
   ]
  },
  {
   "cell_type": "markdown",
   "metadata": {},
   "source": [
    "### Collect all image URIs"
   ]
  },
  {
   "cell_type": "code",
   "execution_count": 4,
   "metadata": {},
   "outputs": [
    {
     "name": "stderr",
     "output_type": "stream",
     "text": [
      "\u001b[34m\u001b[1mwandb\u001b[0m: Currently logged in as: \u001b[33mjared-doit\u001b[0m (use `wandb login --relogin` to force relogin)\n",
      "\u001b[34m\u001b[1mwandb\u001b[0m: wandb version 0.10.12 is available!  To upgrade, please run:\n",
      "\u001b[34m\u001b[1mwandb\u001b[0m:  $ pip install wandb --upgrade\n"
     ]
    },
    {
     "data": {
      "text/html": [
       "\n",
       "                Tracking run with wandb version 0.10.4<br/>\n",
       "                Syncing run <strong style=\"color:#cdcd00\">set_up_data_20201210_205149</strong> to <a href=\"https://wandb.ai\" target=\"_blank\">Weights & Biases</a> <a href=\"https://docs.wandb.com/integrations/jupyter.html\" target=\"_blank\">(Documentation)</a>.<br/>\n",
       "                Project page: <a href=\"https://wandb.ai/jared-doit/cats-dogs-keras\" target=\"_blank\">https://wandb.ai/jared-doit/cats-dogs-keras</a><br/>\n",
       "                Run page: <a href=\"https://wandb.ai/jared-doit/cats-dogs-keras/runs/1fh39q5q\" target=\"_blank\">https://wandb.ai/jared-doit/cats-dogs-keras/runs/1fh39q5q</a><br/>\n",
       "                Run data is saved locally in <code>wandb/run-20201210_205149-1fh39q5q</code><br/><br/>\n",
       "            "
      ],
      "text/plain": [
       "<IPython.core.display.HTML object>"
      ]
     },
     "metadata": {},
     "output_type": "display_data"
    }
   ],
   "source": [
    "RUN_NAME=time.strftime(\"set_up_data_%Y%m%d_%H%M%S\")\n",
    "run = wandb.init(project='cats-dogs-keras', job_type='data', name=RUN_NAME)"
   ]
  },
  {
   "cell_type": "code",
   "execution_count": 13,
   "metadata": {},
   "outputs": [],
   "source": [
    "wandb.log({\"cat_examples\": wandb.Image(\"/home/jupyter/gcs/catsdogs/train/cats/cat.1.jpg\", caption=\"Cat1\")})\n",
    "wandb.log({\"cat_examples\": wandb.Image(\"/home/jupyter/gcs/catsdogs/train/cats/cat.2.jpg\", caption=\"Cat2\")})\n",
    "wandb.log({\"dog_examples\": wandb.Image(\"/home/jupyter/gcs/catsdogs/train/dogs/dog.1.jpg\", caption=\"Dog1\")})\n",
    "wandb.log({\"dog_examples\": wandb.Image(\"/home/jupyter/gcs/catsdogs/train/dogs/dog.2.jpg\", caption=\"Dog2\")})"
   ]
  },
  {
   "cell_type": "code",
   "execution_count": 14,
   "metadata": {},
   "outputs": [
    {
     "data": {
      "text/plain": [
       "['/home/jupyter/gcs/catsdogs/train/cats/cat.0.jpg',\n",
       " '/home/jupyter/gcs/catsdogs/train/cats/cat.1.jpg',\n",
       " '/home/jupyter/gcs/catsdogs/train/cats/cat.10.jpg',\n",
       " '/home/jupyter/gcs/catsdogs/train/cats/cat.100.jpg',\n",
       " '/home/jupyter/gcs/catsdogs/train/cats/cat.101.jpg',\n",
       " '/home/jupyter/gcs/catsdogs/train/cats/cat.102.jpg',\n",
       " '/home/jupyter/gcs/catsdogs/train/cats/cat.103.jpg',\n",
       " '/home/jupyter/gcs/catsdogs/train/cats/cat.104.jpg',\n",
       " '/home/jupyter/gcs/catsdogs/train/cats/cat.105.jpg',\n",
       " '/home/jupyter/gcs/catsdogs/train/cats/cat.106.jpg']"
      ]
     },
     "execution_count": 14,
     "metadata": {},
     "output_type": "execute_result"
    }
   ],
   "source": [
    "myDir='/home/jupyter/gcs/catsdogs/'\n",
    "format='.jpg'\n",
    "fileList = []\n",
    "for root, dirs, files in os.walk(myDir, topdown=False):\n",
    "        for name in files:\n",
    "            if name.endswith(format):\n",
    "                fullName = os.path.join(root, name)\n",
    "                fileList.append(fullName)\n",
    "                \n",
    "fileList[:10]"
   ]
  },
  {
   "cell_type": "code",
   "execution_count": 15,
   "metadata": {},
   "outputs": [
    {
     "data": {
      "text/html": [
       "<div>\n",
       "<style scoped>\n",
       "    .dataframe tbody tr th:only-of-type {\n",
       "        vertical-align: middle;\n",
       "    }\n",
       "\n",
       "    .dataframe tbody tr th {\n",
       "        vertical-align: top;\n",
       "    }\n",
       "\n",
       "    .dataframe thead th {\n",
       "        text-align: right;\n",
       "    }\n",
       "</style>\n",
       "<table border=\"1\" class=\"dataframe\">\n",
       "  <thead>\n",
       "    <tr style=\"text-align: right;\">\n",
       "      <th></th>\n",
       "      <th>image_uri</th>\n",
       "    </tr>\n",
       "  </thead>\n",
       "  <tbody>\n",
       "    <tr>\n",
       "      <th>0</th>\n",
       "      <td>/home/jupyter/gcs/catsdogs/train/cats/cat.0.jpg</td>\n",
       "    </tr>\n",
       "    <tr>\n",
       "      <th>1</th>\n",
       "      <td>/home/jupyter/gcs/catsdogs/train/cats/cat.1.jpg</td>\n",
       "    </tr>\n",
       "    <tr>\n",
       "      <th>2</th>\n",
       "      <td>/home/jupyter/gcs/catsdogs/train/cats/cat.10.jpg</td>\n",
       "    </tr>\n",
       "    <tr>\n",
       "      <th>3</th>\n",
       "      <td>/home/jupyter/gcs/catsdogs/train/cats/cat.100.jpg</td>\n",
       "    </tr>\n",
       "    <tr>\n",
       "      <th>4</th>\n",
       "      <td>/home/jupyter/gcs/catsdogs/train/cats/cat.101.jpg</td>\n",
       "    </tr>\n",
       "  </tbody>\n",
       "</table>\n",
       "</div>"
      ],
      "text/plain": [
       "                                           image_uri\n",
       "0    /home/jupyter/gcs/catsdogs/train/cats/cat.0.jpg\n",
       "1    /home/jupyter/gcs/catsdogs/train/cats/cat.1.jpg\n",
       "2   /home/jupyter/gcs/catsdogs/train/cats/cat.10.jpg\n",
       "3  /home/jupyter/gcs/catsdogs/train/cats/cat.100.jpg\n",
       "4  /home/jupyter/gcs/catsdogs/train/cats/cat.101.jpg"
      ]
     },
     "execution_count": 15,
     "metadata": {},
     "output_type": "execute_result"
    }
   ],
   "source": [
    "df=pd.DataFrame(fileList)\n",
    "df.columns = ['image_uri']\n",
    "df.head()"
   ]
  },
  {
   "cell_type": "code",
   "execution_count": 16,
   "metadata": {},
   "outputs": [
    {
     "data": {
      "text/html": [
       "<div>\n",
       "<style scoped>\n",
       "    .dataframe tbody tr th:only-of-type {\n",
       "        vertical-align: middle;\n",
       "    }\n",
       "\n",
       "    .dataframe tbody tr th {\n",
       "        vertical-align: top;\n",
       "    }\n",
       "\n",
       "    .dataframe thead th {\n",
       "        text-align: right;\n",
       "    }\n",
       "</style>\n",
       "<table border=\"1\" class=\"dataframe\">\n",
       "  <thead>\n",
       "    <tr style=\"text-align: right;\">\n",
       "      <th></th>\n",
       "      <th>split</th>\n",
       "      <th>image_uri</th>\n",
       "      <th>label</th>\n",
       "    </tr>\n",
       "  </thead>\n",
       "  <tbody>\n",
       "    <tr>\n",
       "      <th>0</th>\n",
       "      <td>TRAIN</td>\n",
       "      <td>/home/jupyter/gcs/catsdogs/train/cats/cat.0.jpg</td>\n",
       "      <td>cats</td>\n",
       "    </tr>\n",
       "    <tr>\n",
       "      <th>1</th>\n",
       "      <td>TRAIN</td>\n",
       "      <td>/home/jupyter/gcs/catsdogs/train/cats/cat.1.jpg</td>\n",
       "      <td>cats</td>\n",
       "    </tr>\n",
       "    <tr>\n",
       "      <th>2</th>\n",
       "      <td>TRAIN</td>\n",
       "      <td>/home/jupyter/gcs/catsdogs/train/cats/cat.10.jpg</td>\n",
       "      <td>cats</td>\n",
       "    </tr>\n",
       "    <tr>\n",
       "      <th>3</th>\n",
       "      <td>TRAIN</td>\n",
       "      <td>/home/jupyter/gcs/catsdogs/train/cats/cat.100.jpg</td>\n",
       "      <td>cats</td>\n",
       "    </tr>\n",
       "    <tr>\n",
       "      <th>4</th>\n",
       "      <td>TRAIN</td>\n",
       "      <td>/home/jupyter/gcs/catsdogs/train/cats/cat.101.jpg</td>\n",
       "      <td>cats</td>\n",
       "    </tr>\n",
       "  </tbody>\n",
       "</table>\n",
       "</div>"
      ],
      "text/plain": [
       "   split                                          image_uri label\n",
       "0  TRAIN    /home/jupyter/gcs/catsdogs/train/cats/cat.0.jpg  cats\n",
       "1  TRAIN    /home/jupyter/gcs/catsdogs/train/cats/cat.1.jpg  cats\n",
       "2  TRAIN   /home/jupyter/gcs/catsdogs/train/cats/cat.10.jpg  cats\n",
       "3  TRAIN  /home/jupyter/gcs/catsdogs/train/cats/cat.100.jpg  cats\n",
       "4  TRAIN  /home/jupyter/gcs/catsdogs/train/cats/cat.101.jpg  cats"
      ]
     },
     "execution_count": 16,
     "metadata": {},
     "output_type": "execute_result"
    }
   ],
   "source": [
    "df.loc[df['image_uri'].str.contains('train'), 'split'] = 'TRAIN'\n",
    "df.loc[df['image_uri'].str.contains('validation'), 'split'] = 'VALIDATION'\n",
    "df.loc[df['image_uri'].str.contains('|'.join(['train/cats', 'validation/cats'])), 'label'] = 'cats'\n",
    "df.loc[df['image_uri'].str.contains('|'.join(['train/dogs', 'validation/dogs'])), 'label'] = 'dogs'\n",
    "df = df[['split', 'image_uri', 'label']]\n",
    "df.head()"
   ]
  },
  {
   "cell_type": "code",
   "execution_count": 17,
   "metadata": {},
   "outputs": [],
   "source": [
    "dflocal=df.copy()\n",
    "dfgcs=df.copy()\n",
    "dfgcs['image_uri'] = dfgcs['image_uri'].str.replace('/home/jupyter/gcs','gs://tfx-example-image-classification')\n",
    "dflocal.to_csv('../data/datalocal1.csv', index=False)\n",
    "dfgcs.to_csv('../data/datagcs1.csv', index=False)"
   ]
  },
  {
   "cell_type": "code",
   "execution_count": 18,
   "metadata": {},
   "outputs": [
    {
     "name": "stderr",
     "output_type": "stream",
     "text": [
      "\u001b[34m\u001b[1mwandb\u001b[0m: Generating checksum for up to 10000 objects with prefix \"catsdogs/train/\"... Done. 0.2s\n",
      "\u001b[34m\u001b[1mwandb\u001b[0m: Generating checksum for up to 10000 objects with prefix \"catsdogs/validation/\"... Done. 0.1s\n"
     ]
    },
    {
     "data": {
      "text/html": [
       "<br/>Waiting for W&B process to finish, PID 3041<br/>Program ended successfully."
      ],
      "text/plain": [
       "<IPython.core.display.HTML object>"
      ]
     },
     "metadata": {},
     "output_type": "display_data"
    },
    {
     "data": {
      "application/vnd.jupyter.widget-view+json": {
       "model_id": "",
       "version_major": 2,
       "version_minor": 0
      },
      "text/plain": [
       "VBox(children=(Label(value=' 0.05MB of 0.29MB uploaded (0.00MB deduped)\\r'), FloatProgress(value=0.16863787639…"
      ]
     },
     "metadata": {},
     "output_type": "display_data"
    },
    {
     "data": {
      "text/html": [
       "Find user logs for this run at: <code>wandb/run-20201210_205149-1fh39q5q/logs/debug.log</code>"
      ],
      "text/plain": [
       "<IPython.core.display.HTML object>"
      ]
     },
     "metadata": {},
     "output_type": "display_data"
    },
    {
     "data": {
      "text/html": [
       "Find internal logs for this run at: <code>wandb/run-20201210_205149-1fh39q5q/logs/debug-internal.log</code>"
      ],
      "text/plain": [
       "<IPython.core.display.HTML object>"
      ]
     },
     "metadata": {},
     "output_type": "display_data"
    },
    {
     "data": {
      "text/html": [
       "<h3>Run summary:</h3><br/><style>\n",
       "    table.wandb td:nth-child(1) { padding: 0 10px; text-align: right }\n",
       "    </style><table class=\"wandb\">\n",
       "<tr><td>_step</td><td>3</td></tr><tr><td>_runtime</td><td>1588</td></tr><tr><td>_timestamp</td><td>1607635097</td></tr></table>"
      ],
      "text/plain": [
       "<IPython.core.display.HTML object>"
      ]
     },
     "metadata": {},
     "output_type": "display_data"
    },
    {
     "data": {
      "text/html": [
       "<h3>Run history:</h3><br/><style>\n",
       "    table.wandb td:nth-child(1) { padding: 0 10px; text-align: right }\n",
       "    </style><table class=\"wandb\">\n",
       "<tr><td>_step</td><td>▁▃▆█</td></tr><tr><td>_runtime</td><td>▁▅▆█</td></tr><tr><td>_timestamp</td><td>▁▅▆█</td></tr></table><br/>"
      ],
      "text/plain": [
       "<IPython.core.display.HTML object>"
      ]
     },
     "metadata": {},
     "output_type": "display_data"
    },
    {
     "data": {
      "text/html": [
       "Synced 5 W&B file(s), 4 media file(s), 1 artifact file(s) and 0 other file(s)"
      ],
      "text/plain": [
       "<IPython.core.display.HTML object>"
      ]
     },
     "metadata": {},
     "output_type": "display_data"
    },
    {
     "data": {
      "text/html": [
       "\n",
       "                    <br/>Synced <strong style=\"color:#cdcd00\">set_up_data_20201210_205149</strong>: <a href=\"https://wandb.ai/jared-doit/cats-dogs-keras/runs/1fh39q5q\" target=\"_blank\">https://wandb.ai/jared-doit/cats-dogs-keras/runs/1fh39q5q</a><br/>\n",
       "                "
      ],
      "text/plain": [
       "<IPython.core.display.HTML object>"
      ]
     },
     "metadata": {},
     "output_type": "display_data"
    }
   ],
   "source": [
    "artifact = wandb.Artifact(name='training_images', type='dataset')\n",
    "artifact.add_reference('gs://tfx-example-image-classification/catsdogs/train/')\n",
    "run.log_artifact(artifact)\n",
    "artifact = wandb.Artifact(name='validation_images', type='dataset')\n",
    "artifact.add_reference('gs://tfx-example-image-classification/catsdogs/validation/')\n",
    "run.log_artifact(artifact)\n",
    "artifact = wandb.Artifact(name='image_uris_csv', type='dataset')\n",
    "artifact.add_file('../data/datagcs.csv')\n",
    "run.log_artifact(artifact)\n",
    "run.finish()"
   ]
  },
  {
   "cell_type": "code",
   "execution_count": 19,
   "metadata": {},
   "outputs": [
    {
     "name": "stderr",
     "output_type": "stream",
     "text": [
      "\u001b[34m\u001b[1mwandb\u001b[0m: wandb version 0.10.12 is available!  To upgrade, please run:\n",
      "\u001b[34m\u001b[1mwandb\u001b[0m:  $ pip install wandb --upgrade\n"
     ]
    },
    {
     "data": {
      "text/html": [
       "\n",
       "                Tracking run with wandb version 0.10.4<br/>\n",
       "                Syncing run <strong style=\"color:#cdcd00\">generate_tfrecords_20201210_211951</strong> to <a href=\"https://wandb.ai\" target=\"_blank\">Weights & Biases</a> <a href=\"https://docs.wandb.com/integrations/jupyter.html\" target=\"_blank\">(Documentation)</a>.<br/>\n",
       "                Project page: <a href=\"https://wandb.ai/jared-doit/cats-dogs-keras\" target=\"_blank\">https://wandb.ai/jared-doit/cats-dogs-keras</a><br/>\n",
       "                Run page: <a href=\"https://wandb.ai/jared-doit/cats-dogs-keras/runs/3sxca00s\" target=\"_blank\">https://wandb.ai/jared-doit/cats-dogs-keras/runs/3sxca00s</a><br/>\n",
       "                Run data is saved locally in <code>wandb/run-20201210_211951-3sxca00s</code><br/><br/>\n",
       "            "
      ],
      "text/plain": [
       "<IPython.core.display.HTML object>"
      ]
     },
     "metadata": {},
     "output_type": "display_data"
    }
   ],
   "source": [
    "RUN_NAME=time.strftime(\"generate_tfrecords_%Y%m%d_%H%M%S\")\n",
    "run = wandb.init(project='cats-dogs-keras',job_type='data', name=RUN_NAME)\n",
    "artifact = run.use_artifact('training_images:latest')\n",
    "artifact = run.use_artifact('validation_images:latest')\n",
    "artifact = run.use_artifact('image_uris_csv:latest')"
   ]
  },
  {
   "cell_type": "code",
   "execution_count": 22,
   "metadata": {},
   "outputs": [
    {
     "data": {
      "text/html": [
       "<b>Logging output to /tmp/tfrecorder-beam.log </b>"
      ],
      "text/plain": [
       "<IPython.core.display.HTML object>"
      ]
     },
     "metadata": {},
     "output_type": "display_data"
    },
    {
     "data": {
      "text/plain": [
       "{'job_id': '2020-12-10_13_28_32-1622342719623853266',\n",
       " 'dataflow_url': 'https://console.cloud.google.com/dataflow/jobs/us-central1/2020-12-10_13_28_32-1622342719623853266?=project=jared-playground',\n",
       " 'tfrecord_dir': 'gs://tfx-example-image-classification/catsdogs/tfrecords/tfrecorder-20201210-212812-to-tfr'}"
      ]
     },
     "execution_count": 22,
     "metadata": {},
     "output_type": "execute_result"
    }
   ],
   "source": [
    "FILENAME='../data/datagcs.csv'\n",
    "TFRECORD_OUTPUT='gs://tfx-example-image-classification/catsdogs/tfrecords'\n",
    "PROJECT='jared-playground'\n",
    "REGION='us-central1'\n",
    "TFRECORDER_WHEEL='/home/jupyter/tfrecorder-2.0-py3-none-any.whl'\n",
    "\n",
    "\n",
    "dfgcs = pd.read_csv(FILENAME)\n",
    "dfgcs.tensorflow.to_tfr(\n",
    "    output_dir=TFRECORD_OUTPUT,\n",
    "    runner='DataflowRunner',\n",
    "    project=PROJECT,\n",
    "    region=REGION,\n",
    "    tfrecorder_wheel=TFRECORDER_WHEEL)"
   ]
  },
  {
   "cell_type": "code",
   "execution_count": 23,
   "metadata": {},
   "outputs": [
    {
     "data": {
      "text/html": [
       "<div>\n",
       "<style scoped>\n",
       "    .dataframe tbody tr th:only-of-type {\n",
       "        vertical-align: middle;\n",
       "    }\n",
       "\n",
       "    .dataframe tbody tr th {\n",
       "        vertical-align: top;\n",
       "    }\n",
       "\n",
       "    .dataframe thead th {\n",
       "        text-align: right;\n",
       "    }\n",
       "</style>\n",
       "<table border=\"1\" class=\"dataframe\">\n",
       "  <thead>\n",
       "    <tr style=\"text-align: right;\">\n",
       "      <th></th>\n",
       "      <th>split</th>\n",
       "      <th>image_uri</th>\n",
       "      <th>label</th>\n",
       "    </tr>\n",
       "  </thead>\n",
       "  <tbody>\n",
       "    <tr>\n",
       "      <th>0</th>\n",
       "      <td>TRAIN</td>\n",
       "      <td>gs://mchrestkha-demo-env-ml-examples/catsdogs/...</td>\n",
       "      <td>cats</td>\n",
       "    </tr>\n",
       "    <tr>\n",
       "      <th>1</th>\n",
       "      <td>TRAIN</td>\n",
       "      <td>gs://mchrestkha-demo-env-ml-examples/catsdogs/...</td>\n",
       "      <td>cats</td>\n",
       "    </tr>\n",
       "    <tr>\n",
       "      <th>2</th>\n",
       "      <td>TRAIN</td>\n",
       "      <td>gs://mchrestkha-demo-env-ml-examples/catsdogs/...</td>\n",
       "      <td>cats</td>\n",
       "    </tr>\n",
       "    <tr>\n",
       "      <th>3</th>\n",
       "      <td>TRAIN</td>\n",
       "      <td>gs://mchrestkha-demo-env-ml-examples/catsdogs/...</td>\n",
       "      <td>cats</td>\n",
       "    </tr>\n",
       "    <tr>\n",
       "      <th>4</th>\n",
       "      <td>TRAIN</td>\n",
       "      <td>gs://mchrestkha-demo-env-ml-examples/catsdogs/...</td>\n",
       "      <td>cats</td>\n",
       "    </tr>\n",
       "    <tr>\n",
       "      <th>...</th>\n",
       "      <td>...</td>\n",
       "      <td>...</td>\n",
       "      <td>...</td>\n",
       "    </tr>\n",
       "    <tr>\n",
       "      <th>2995</th>\n",
       "      <td>VALIDATION</td>\n",
       "      <td>gs://mchrestkha-demo-env-ml-examples/catsdogs/...</td>\n",
       "      <td>dogs</td>\n",
       "    </tr>\n",
       "    <tr>\n",
       "      <th>2996</th>\n",
       "      <td>VALIDATION</td>\n",
       "      <td>gs://mchrestkha-demo-env-ml-examples/catsdogs/...</td>\n",
       "      <td>dogs</td>\n",
       "    </tr>\n",
       "    <tr>\n",
       "      <th>2997</th>\n",
       "      <td>VALIDATION</td>\n",
       "      <td>gs://mchrestkha-demo-env-ml-examples/catsdogs/...</td>\n",
       "      <td>dogs</td>\n",
       "    </tr>\n",
       "    <tr>\n",
       "      <th>2998</th>\n",
       "      <td>VALIDATION</td>\n",
       "      <td>gs://mchrestkha-demo-env-ml-examples/catsdogs/...</td>\n",
       "      <td>dogs</td>\n",
       "    </tr>\n",
       "    <tr>\n",
       "      <th>2999</th>\n",
       "      <td>VALIDATION</td>\n",
       "      <td>gs://mchrestkha-demo-env-ml-examples/catsdogs/...</td>\n",
       "      <td>dogs</td>\n",
       "    </tr>\n",
       "  </tbody>\n",
       "</table>\n",
       "<p>3000 rows × 3 columns</p>\n",
       "</div>"
      ],
      "text/plain": [
       "           split                                          image_uri label\n",
       "0          TRAIN  gs://mchrestkha-demo-env-ml-examples/catsdogs/...  cats\n",
       "1          TRAIN  gs://mchrestkha-demo-env-ml-examples/catsdogs/...  cats\n",
       "2          TRAIN  gs://mchrestkha-demo-env-ml-examples/catsdogs/...  cats\n",
       "3          TRAIN  gs://mchrestkha-demo-env-ml-examples/catsdogs/...  cats\n",
       "4          TRAIN  gs://mchrestkha-demo-env-ml-examples/catsdogs/...  cats\n",
       "...          ...                                                ...   ...\n",
       "2995  VALIDATION  gs://mchrestkha-demo-env-ml-examples/catsdogs/...  dogs\n",
       "2996  VALIDATION  gs://mchrestkha-demo-env-ml-examples/catsdogs/...  dogs\n",
       "2997  VALIDATION  gs://mchrestkha-demo-env-ml-examples/catsdogs/...  dogs\n",
       "2998  VALIDATION  gs://mchrestkha-demo-env-ml-examples/catsdogs/...  dogs\n",
       "2999  VALIDATION  gs://mchrestkha-demo-env-ml-examples/catsdogs/...  dogs\n",
       "\n",
       "[3000 rows x 3 columns]"
      ]
     },
     "execution_count": 23,
     "metadata": {},
     "output_type": "execute_result"
    }
   ],
   "source": [
    "dfgcs"
   ]
  },
  {
   "cell_type": "code",
   "execution_count": 24,
   "metadata": {},
   "outputs": [
    {
     "ename": "AttributeError",
     "evalue": "'Run' object has no attribute '_backend'",
     "output_type": "error",
     "traceback": [
      "\u001b[0;31m---------------------------------------------------------------------------\u001b[0m",
      "\u001b[0;31mAttributeError\u001b[0m                            Traceback (most recent call last)",
      "\u001b[0;32m<ipython-input-24-ee0921cffc77>\u001b[0m in \u001b[0;36m<module>\u001b[0;34m\u001b[0m\n\u001b[1;32m      1\u001b[0m \u001b[0martifact\u001b[0m \u001b[0;34m=\u001b[0m \u001b[0mwandb\u001b[0m\u001b[0;34m.\u001b[0m\u001b[0mArtifact\u001b[0m\u001b[0;34m(\u001b[0m\u001b[0mname\u001b[0m\u001b[0;34m=\u001b[0m\u001b[0;34m'tfrecords'\u001b[0m\u001b[0;34m,\u001b[0m \u001b[0mtype\u001b[0m\u001b[0;34m=\u001b[0m\u001b[0;34m'dataset'\u001b[0m\u001b[0;34m)\u001b[0m\u001b[0;34m\u001b[0m\u001b[0;34m\u001b[0m\u001b[0m\n\u001b[1;32m      2\u001b[0m \u001b[0martifact\u001b[0m\u001b[0;34m.\u001b[0m\u001b[0madd_reference\u001b[0m\u001b[0;34m(\u001b[0m\u001b[0;34m'gs://tfx-example-image-classification/catsdogs/tfrecords/'\u001b[0m\u001b[0;34m)\u001b[0m\u001b[0;34m\u001b[0m\u001b[0;34m\u001b[0m\u001b[0m\n\u001b[0;32m----> 3\u001b[0;31m \u001b[0mrun\u001b[0m\u001b[0;34m.\u001b[0m\u001b[0mlog_artifact\u001b[0m\u001b[0;34m(\u001b[0m\u001b[0martifact\u001b[0m\u001b[0;34m)\u001b[0m\u001b[0;34m\u001b[0m\u001b[0;34m\u001b[0m\u001b[0m\n\u001b[0m\u001b[1;32m      4\u001b[0m \u001b[0mrun\u001b[0m\u001b[0;34m.\u001b[0m\u001b[0mfinish\u001b[0m\u001b[0;34m(\u001b[0m\u001b[0;34m)\u001b[0m\u001b[0;34m\u001b[0m\u001b[0;34m\u001b[0m\u001b[0m\n",
      "\u001b[0;32m/opt/conda/lib/python3.7/site-packages/wandb/sdk/wandb_run.py\u001b[0m in \u001b[0;36mlog_artifact\u001b[0;34m(self, artifact_or_path, name, type, aliases)\u001b[0m\n\u001b[1;32m   1614\u001b[0m             \u001b[0maliases\u001b[0m \u001b[0;34m=\u001b[0m \u001b[0;34m[\u001b[0m\u001b[0maliases\u001b[0m\u001b[0;34m]\u001b[0m\u001b[0;34m\u001b[0m\u001b[0;34m\u001b[0m\u001b[0m\n\u001b[1;32m   1615\u001b[0m         \u001b[0martifact\u001b[0m\u001b[0;34m.\u001b[0m\u001b[0mfinalize\u001b[0m\u001b[0;34m(\u001b[0m\u001b[0;34m)\u001b[0m\u001b[0;34m\u001b[0m\u001b[0;34m\u001b[0m\u001b[0m\n\u001b[0;32m-> 1616\u001b[0;31m         \u001b[0mself\u001b[0m\u001b[0;34m.\u001b[0m\u001b[0m_backend\u001b[0m\u001b[0;34m.\u001b[0m\u001b[0minterface\u001b[0m\u001b[0;34m.\u001b[0m\u001b[0mpublish_artifact\u001b[0m\u001b[0;34m(\u001b[0m\u001b[0mself\u001b[0m\u001b[0;34m,\u001b[0m \u001b[0martifact\u001b[0m\u001b[0;34m,\u001b[0m \u001b[0maliases\u001b[0m\u001b[0;34m)\u001b[0m\u001b[0;34m\u001b[0m\u001b[0;34m\u001b[0m\u001b[0m\n\u001b[0m\u001b[1;32m   1617\u001b[0m         \u001b[0;32mreturn\u001b[0m \u001b[0martifact\u001b[0m\u001b[0;34m\u001b[0m\u001b[0;34m\u001b[0m\u001b[0m\n\u001b[1;32m   1618\u001b[0m \u001b[0;34m\u001b[0m\u001b[0m\n",
      "\u001b[0;31mAttributeError\u001b[0m: 'Run' object has no attribute '_backend'"
     ]
    }
   ],
   "source": [
    "artifact = wandb.Artifact(name='tfrecords', type='dataset')\n",
    "artifact.add_reference('gs://tfx-example-image-classification/catsdogs/tfrecords/')\n",
    "run.log_artifact(artifact)\n",
    "run.finish()"
   ]
  },
  {
   "cell_type": "code",
   "execution_count": null,
   "metadata": {},
   "outputs": [],
   "source": []
  }
 ],
 "metadata": {
  "environment": {
   "name": "tf2-2-3-gpu.2-3.m59",
   "type": "gcloud",
   "uri": "gcr.io/deeplearning-platform-release/tf2-2-3-gpu.2-3:m59"
  },
  "kernelspec": {
   "display_name": "Python 3",
   "language": "python",
   "name": "python3"
  },
  "language_info": {
   "codemirror_mode": {
    "name": "ipython",
    "version": 3
   },
   "file_extension": ".py",
   "mimetype": "text/x-python",
   "name": "python",
   "nbconvert_exporter": "python",
   "pygments_lexer": "ipython3",
   "version": "3.7.8"
  }
 },
 "nbformat": 4,
 "nbformat_minor": 4
}
